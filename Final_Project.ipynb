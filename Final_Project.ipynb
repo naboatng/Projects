{
 "cells": [
  {
   "cell_type": "markdown",
   "id": "2f5e6103-af24-46ae-9dc6-2ab1a4679fc8",
   "metadata": {},
   "source": [
    "# <center><b>Analyzing Tesla and GameStop Stock Data Using yfinance and Webscraping</b></center>"
   ]
  },
  {
   "cell_type": "markdown",
   "id": "463074ce-2b31-41eb-910d-6737131431f1",
   "metadata": {},
   "source": [
    "# Project Overview"
   ]
  },
  {
   "cell_type": "markdown",
   "id": "d0d6a7ad-08fc-4b6b-9d2c-73f1da54d68f",
   "metadata": {},
   "source": [
    "<p style=\"font-size: 16px;\">For this project, you will assume the role of a Data Scientist / Data Analyst working for a new startup investment firm that helps customers invest their money in stocks. Your job is to extract financial data like historical share price and quarterly revenue reportings from various sources using Python libraries and webscraping on popular stocks. After collecting this data you will visualize it in a dashboard to identify patterns or trends. The stocks we will work with are Tesla, Amazon, AMD, and GameStop.</p>\n",
    "\n",
    "<h1>Dashboard Analytics Displayed</h1>\n",
    "<p style=\"font-size: 16px;\">A dashboard often provides a view of key performance indicators in a clear way. Analyzing a data set and extracting key performance indicators will be practiced. Prompts will be used to support learning in accessing and displaying data in dashboards. Learning how to display key performance indicators on a dashboard will be included in this assignment. We will be using Plotly in this course for data visualization and is not a requirement to take this course. In the Python for Data Science, AI and Development course you utilized Skills Network Labs for hands-on labs.</p>"
   ]
  },
  {
   "cell_type": "markdown",
   "id": "4cdf654d-0727-4a08-8b51-ef84c960b7db",
   "metadata": {},
   "source": [
    "# Question 1: Use yfinance to Extract Stock Data"
   ]
  },
  {
   "cell_type": "markdown",
   "id": "a3194aef-307f-4d34-951e-95e6ea8eaf1f",
   "metadata": {},
   "source": [
    "### Reset the index, save, and display the first five rows of the `tesla_data dataframe` using the head function. `Upload a screenshot of the results` and code from the beginning of Question 1 to the results below."
   ]
  },
  {
   "cell_type": "code",
   "execution_count": 2,
   "id": "f332480b-d1af-4c6b-9db3-69a8def71d60",
   "metadata": {},
   "outputs": [],
   "source": [
    "# Write Your code here"
   ]
  },
  {
   "cell_type": "markdown",
   "id": "dbdc6b50-a2a8-4cc0-9256-8e8f15611191",
   "metadata": {},
   "source": [
    "# Question 2: Use Webscraping to Extract Tesla Revenue Data\n",
    "### Display the `last five rows of the tesla_revenue dataframe` using the `tail function`. Upload a screenshot of the results.\n"
   ]
  },
  {
   "cell_type": "code",
   "execution_count": 3,
   "id": "500a2c6c-dcbe-4dc7-9333-8e1d3876cc80",
   "metadata": {},
   "outputs": [],
   "source": [
    "# write your code here"
   ]
  },
  {
   "cell_type": "markdown",
   "id": "38c22a72-6932-4957-88b0-aab57db87626",
   "metadata": {},
   "source": [
    "# Question 3: Use yfinance to Extract Stock Data\n",
    "### Reset the index, save, and `display the first five rows of the gme_data dataframe` using the `head function`. Upload a screenshot of the results."
   ]
  },
  {
   "cell_type": "code",
   "execution_count": 4,
   "id": "a4afc9e3-50dd-4404-92cb-5ca0adcb3eaa",
   "metadata": {},
   "outputs": [],
   "source": [
    "# write your code here"
   ]
  },
  {
   "cell_type": "markdown",
   "id": "3457ef50-85c8-4fae-9e38-71e7ceae2895",
   "metadata": {},
   "source": [
    "# Question 4: Use Webscraping to Extract GME Revenue Data\n",
    "### Display the `last five rows of the gme_revenue dataframe` using the `tail function`. Upload a screenshot of the results.\n"
   ]
  },
  {
   "cell_type": "code",
   "execution_count": 5,
   "id": "a413bd6b-4369-4bfc-ad6f-e54c76a5d127",
   "metadata": {},
   "outputs": [],
   "source": [
    "# write your code here"
   ]
  },
  {
   "cell_type": "markdown",
   "id": "fbd72bdc-4e91-4cfc-97b3-8bf764359896",
   "metadata": {},
   "source": [
    "# Question 5: Plot Tesla Stock Graph\n",
    "### Use the `make_graph function` to graph the `Tesla Stock Data`, also provide a `title for the graph`. Upload a screenshot of your results.\n"
   ]
  },
  {
   "cell_type": "code",
   "execution_count": 6,
   "id": "6661ea69-0fb9-4b14-9980-3be7f58d3bad",
   "metadata": {},
   "outputs": [],
   "source": [
    "# write your code here"
   ]
  },
  {
   "cell_type": "markdown",
   "id": "84baa3de-a20e-4e83-869f-2a0584283006",
   "metadata": {},
   "source": [
    "# Question 6: Plot GameStop Stock Graph\n",
    "### Use the `make_graph function` to graph the `GameStop Stock Data`, also provide a `title for the graph`.\n"
   ]
  },
  {
   "cell_type": "code",
   "execution_count": 7,
   "id": "fec19afa-2e06-423c-9191-29d062b77bab",
   "metadata": {},
   "outputs": [],
   "source": [
    "# write your code here"
   ]
  }
 ],
 "metadata": {
  "kernelspec": {
   "display_name": "Python 3 (ipykernel)",
   "language": "python",
   "name": "python3"
  },
  "language_info": {
   "codemirror_mode": {
    "name": "ipython",
    "version": 3
   },
   "file_extension": ".py",
   "mimetype": "text/x-python",
   "name": "python",
   "nbconvert_exporter": "python",
   "pygments_lexer": "ipython3",
   "version": "3.12.0"
  }
 },
 "nbformat": 4,
 "nbformat_minor": 5
}
