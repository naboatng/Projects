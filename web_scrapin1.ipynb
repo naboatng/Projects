{
 "cells": [
  {
   "cell_type": "code",
   "execution_count": null,
   "id": "8385c0b3-9c6c-4e77-ae5c-f1eedbc6dd73",
   "metadata": {
    "tags": []
   },
   "outputs": [],
   "source": [
    "from bs4 import BeautifulSoup\n",
    "import requests\n",
    "import pandas as pd\n",
    "import time\n",
    "\n",
    "print('Put some skill that you are not familiar with')\n",
    "unfamiliar_skill = input('>')\n",
    "print(f'Filtering out {unfamiliar_skill}')\n",
    "\n",
    "def find_jobs():\n",
    "    url = 'https://www.timesjobs.com/candidate/job-search.html?searchType=personalizedSearch&from=submit&searchTextSrc=ft&searchTextText=&txtKeywords=python&txtLocation='\n",
    "    html = requests.get(url)\n",
    "    soup = BeautifulSoup(html.text,'lxml')\n",
    "    jobs =soup.find_all(\"li\", class_= \"clearfix job-bx wht-shd-bx\")\n",
    "    for job in jobs:\n",
    "        published_date = job.find('span', class_='sim-posted').span.text\n",
    "        if 'few' in published_date:\n",
    "            company_name = job.find('h3', class_='joblist-comp-name').text.replace(' ','')\n",
    "            skills = job.find('span', class_='srp-skills').text.replace(' ','')\n",
    "            more_info =job.header.a['href']\n",
    "            if unfamiliar_skill not in skills:\n",
    "                print(f\"Company Name: {company_name.strip()}\")\n",
    "                print(f\"Required Skills: {skills.strip()}\")\n",
    "                print(f'More Info: {more_info}')\n",
    "    \n",
    "                print('')\n",
    "if __name__ == '__main__':\n",
    "    while True:\n",
    "        find_jobs()\n",
    "        time_wait = 10\n",
    "        print(f'Waiting {time_wait} minutes...')\n",
    "        time.sleep(time_wait * 60)\n",
    "        "
   ]
  },
  {
   "cell_type": "code",
   "execution_count": null,
   "id": "fad44688-7567-4798-a534-b01b82715d1d",
   "metadata": {},
   "outputs": [],
   "source": []
  },
  {
   "cell_type": "code",
   "execution_count": null,
   "id": "009e96c6-73e5-4fed-b653-58195ab046c8",
   "metadata": {},
   "outputs": [],
   "source": []
  }
 ],
 "metadata": {
  "kernelspec": {
   "display_name": "Python 3 (ipykernel)",
   "language": "python",
   "name": "python3"
  },
  "language_info": {
   "codemirror_mode": {
    "name": "ipython",
    "version": 3
   },
   "file_extension": ".py",
   "mimetype": "text/x-python",
   "name": "python",
   "nbconvert_exporter": "python",
   "pygments_lexer": "ipython3",
   "version": "3.11.5"
  }
 },
 "nbformat": 4,
 "nbformat_minor": 5
}
