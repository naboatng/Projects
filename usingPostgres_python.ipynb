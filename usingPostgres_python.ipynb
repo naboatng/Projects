{
 "cells": [
  {
   "cell_type": "code",
   "execution_count": 4,
   "id": "f567e58b-beb4-46f8-a071-762d519c675c",
   "metadata": {
    "tags": []
   },
   "outputs": [],
   "source": [
    "import psycopg2"
   ]
  },
  {
   "cell_type": "code",
   "execution_count": 23,
   "id": "f1540649-42c3-4740-9018-5bcf755d683c",
   "metadata": {
    "tags": []
   },
   "outputs": [
    {
     "name": "stdout",
     "output_type": "stream",
     "text": [
      "Connected to database successfully!\n",
      "(2, 'Fatima', 32, 'Female', datetime.date(2024, 2, 10))\n",
      "(4, 'Ali', 50, 'Male', datetime.date(2024, 1, 20))\n",
      "(5, 'Zahra', 19, 'Female', datetime.date(2024, 2, 28))\n",
      "(6, 'Omar', 37, 'Male', datetime.date(2024, 3, 2))\n",
      "(7, 'Khadijah', 65, 'Female', datetime.date(2024, 1, 10))\n",
      "(8, 'Hassan', 23, 'Male', datetime.date(2024, 2, 15))\n",
      "(9, 'Sumaya', 42, 'Female', datetime.date(2024, 3, 8))\n",
      "(10, 'Layla', 31, 'Female', datetime.date(2024, 1, 25))\n",
      "(11, 'Ibrahim', 55, 'Male', datetime.date(2024, 2, 5))\n",
      "(12, 'Huda', 29, 'Female', datetime.date(2024, 3, 10))\n",
      "(13, 'Youssef', 47, 'Male', datetime.date(2024, 1, 15))\n",
      "(14, 'Mariam', 38, 'Female', datetime.date(2024, 2, 20))\n",
      "(15, 'Ahmed', 34, 'Male', datetime.date(2024, 3, 5))\n",
      "(16, 'Safa', 26, 'Female', datetime.date(2024, 1, 30))\n",
      "(17, 'Mustafa', 43, 'Male', datetime.date(2024, 2, 10))\n",
      "(18, 'Amira', 27, 'Female', datetime.date(2024, 3, 15))\n",
      "(19, 'Bilal', 41, 'Male', datetime.date(2024, 1, 20))\n",
      "(20, 'Nour', 33, 'Female', datetime.date(2024, 2, 28))\n",
      "(3, 'Aisha', 21, 'Female', datetime.date(2024, 3, 15))\n",
      "(22, 'Aziz', 32, 'Male', datetime.date(2024, 11, 6))\n",
      "(1, 'Muhammed', 45, 'Male', datetime.date(2024, 1, 5))\n"
     ]
    }
   ],
   "source": [
    "#Create connection object\n",
    "hostname = 'localhost'\n",
    "port = '5432'\n",
    "database = 'hospitaldb'\n",
    "username = 'postgres'\n",
    "password = 'Twin@2017'\n",
    "\n",
    "# Create Connection\n",
    "try:\n",
    "    connection = psycopg2.connect(\n",
    "    dbname = database,\n",
    "    user = username,\n",
    "    password = password, \n",
    "    host = hostname,\n",
    "    port = port    \n",
    ")\n",
    "    print(\"Connected to database successfully!\")\n",
    "except psycopg2.Error as e:\n",
    "    print(\"Unable to connect to the database\",e)\n",
    "    \n",
    "# Create a cursor object\n",
    "cur = connection.cursor()\n",
    "#Insert into a table\n",
    "cur.execute(\"INSERT INTO patients(patient_id,patient_name,age,gender,admission)VALUES(1,'Muhammed',45,'Male','2024-01-05')\")\n",
    "connection.commit()\n",
    "\n",
    "# Execute from the table name\n",
    "cur.execute(\"SELECT * from patients\")\n",
    "# fetch from all the rows\n",
    "rows = cur.fetchall()\n",
    "\n",
    "# Use for loops to print out the rows\n",
    "for row in rows:\n",
    "    print(row)\n",
    "cur.close()\n",
    "connection.close()"
   ]
  },
  {
   "cell_type": "code",
   "execution_count": null,
   "id": "78134888-c66c-4ad8-81b5-b0407871914b",
   "metadata": {},
   "outputs": [],
   "source": []
  }
 ],
 "metadata": {
  "kernelspec": {
   "display_name": "Python 3 (ipykernel)",
   "language": "python",
   "name": "python3"
  },
  "language_info": {
   "codemirror_mode": {
    "name": "ipython",
    "version": 3
   },
   "file_extension": ".py",
   "mimetype": "text/x-python",
   "name": "python",
   "nbconvert_exporter": "python",
   "pygments_lexer": "ipython3",
   "version": "3.11.5"
  }
 },
 "nbformat": 4,
 "nbformat_minor": 5
}
